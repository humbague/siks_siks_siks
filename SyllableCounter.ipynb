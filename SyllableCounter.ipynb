{
 "cells": [
  {
   "cell_type": "markdown",
   "metadata": {},
   "source": [
    "Apply the algorithm to a single word. First, let's get rid of the silent letters."
   ]
  },
  {
   "cell_type": "code",
   "execution_count": 1,
   "metadata": {
    "collapsed": true
   },
   "outputs": [],
   "source": [
    "def pretransform(s):\n",
    "    s = s.rstrip()\n",
    "    if len(s)>2:\n",
    "        indices = []\n",
    "        for i in range(len(s)):\n",
    "            if s[i].lower() == 'q':\n",
    "                indices.append(i+1)\n",
    "        s = \"\".join([v for i, v in enumerate(s) if i not in indices])\n",
    "        indices = []\n",
    "        for i in range(len(s)):\n",
    "            if s[i] == ',' or s[i] == \"'\" or s[i] == \"?\" or s[i] == \"!\":\n",
    "                indices.append(i)\n",
    "        s = \"\".join([v for i, v in enumerate(s) if i not in indices])\n",
    "        indices = []\n",
    "        if s[-2].lower() == 'e':\n",
    "            if s[-1].lower() == 'd':\n",
    "                s = s[:-2]\n",
    "            if s[-1].lower() == 's' and s[-3].lower() not in 'csz':\n",
    "                s = s[:-1]\n",
    "        if s[-1] == 'e' and s[-2].lower() not in 'aeiou' and s[-3].lower() in 'aeiou':\n",
    "            s = s[:-1]\n",
    "    return s"
   ]
  },
  {
   "cell_type": "code",
   "execution_count": 2,
   "metadata": {},
   "outputs": [
    {
     "data": {
      "text/plain": [
       "'Iv'"
      ]
     },
     "execution_count": 2,
     "metadata": {},
     "output_type": "execute_result"
    }
   ],
   "source": [
    "pretransform(\"I've\")"
   ]
  },
  {
   "cell_type": "code",
   "execution_count": 3,
   "metadata": {
    "collapsed": true
   },
   "outputs": [],
   "source": [
    "def transform(s):\n",
    "    s = pretransform(s)\n",
    "    for char in s:\n",
    "#         if char.lower() in 'aiou':\n",
    "        if char.lower() in 'aeiou':\n",
    "            s = s.replace(char,'1')\n",
    "#         elif char == 'e':\n",
    "#             pass\n",
    "        elif char == 'y':\n",
    "            pass\n",
    "#         elif char == 'q':\n",
    "#             pass\n",
    "        else:\n",
    "            s = s.replace(char,'0')\n",
    "    return s"
   ]
  },
  {
   "cell_type": "code",
   "execution_count": 4,
   "metadata": {},
   "outputs": [
    {
     "data": {
      "text/plain": [
       "'10'"
      ]
     },
     "execution_count": 4,
     "metadata": {},
     "output_type": "execute_result"
    }
   ],
   "source": [
    "transform(\"I've\")"
   ]
  },
  {
   "cell_type": "markdown",
   "metadata": {},
   "source": [
    "Then, the special cases are taken into account."
   ]
  },
  {
   "cell_type": "code",
   "execution_count": 5,
   "metadata": {
    "collapsed": true
   },
   "outputs": [],
   "source": [
    "def special(s):\n",
    "    for i in range(len(s)):\n",
    "        if s[i] == '0' or s[i] == '1':\n",
    "            pass\n",
    "        elif s[i].lower() == 'y':\n",
    "            if i == 0:\n",
    "                if s[i+1] == '0':\n",
    "                    s = s[:i] + '1' + s[i+1:]\n",
    "                else:\n",
    "                    s = s[:i] + '0' + s[i+1:]\n",
    "            else:\n",
    "                if s[i-1] == '0':\n",
    "                    s = s[:i] + '1' + s[i+1:]\n",
    "                else:\n",
    "                    s = s[:i] + '0' + s[i+1:]\n",
    "#         elif s[i].lower() == 'e':\n",
    "#             if i == len(s)-1 and len(s)>=2:\n",
    "#                 if s[i-1] == '0' and s[i-2]=='0':\n",
    "#                     s = s[:i] + '1' + s[i+1:]\n",
    "#                 else:\n",
    "#                     s = s[:i] + '0' + s[i+1:]\n",
    "#             else:\n",
    "#                 s = s[:i] + '1' + s[i+1:]\n",
    "#         else:\n",
    "#             pass\n",
    "    return s"
   ]
  },
  {
   "cell_type": "code",
   "execution_count": 6,
   "metadata": {},
   "outputs": [
    {
     "name": "stdout",
     "output_type": "stream",
     "text": [
      "1010\n",
      "1010\n"
     ]
    }
   ],
   "source": [
    "print(transform(\"unique\"))\n",
    "print(special(transform(\"unique\")))"
   ]
  },
  {
   "cell_type": "markdown",
   "metadata": {},
   "source": [
    "We only have to count the letters now. 1 syllable per each 01 we have, but we also have to prepend a zero"
   ]
  },
  {
   "cell_type": "code",
   "execution_count": 7,
   "metadata": {
    "collapsed": true
   },
   "outputs": [],
   "source": [
    "def syllablesum(s):\n",
    "    s = \"0{0}\".format(s)\n",
    "    syllables = 0\n",
    "    for i in range(len(s)-1):\n",
    "        if s[i] == \"0\" and s[i+1] == \"1\":\n",
    "            syllables += 1\n",
    "    return syllables"
   ]
  },
  {
   "cell_type": "markdown",
   "metadata": {},
   "source": [
    "Finally, the wraper:"
   ]
  },
  {
   "cell_type": "code",
   "execution_count": 8,
   "metadata": {
    "collapsed": true
   },
   "outputs": [],
   "source": [
    "def counter(s):\n",
    "    c = syllablesum(special(transform(s)))\n",
    "    if c == 0:\n",
    "        return 1\n",
    "    return c"
   ]
  },
  {
   "cell_type": "code",
   "execution_count": 9,
   "metadata": {
    "collapsed": true
   },
   "outputs": [],
   "source": [
    "def phrasecounter(s):\n",
    "    vec=str.split(s)\n",
    "    return list(map(counter,vec))"
   ]
  },
  {
   "cell_type": "code",
   "execution_count": 10,
   "metadata": {},
   "outputs": [
    {
     "data": {
      "text/plain": [
       "[]"
      ]
     },
     "execution_count": 10,
     "metadata": {},
     "output_type": "execute_result"
    }
   ],
   "source": [
    "phrasecounter(\"\\n\")"
   ]
  },
  {
   "cell_type": "code",
   "execution_count": 11,
   "metadata": {},
   "outputs": [
    {
     "name": "stdout",
     "output_type": "stream",
     "text": [
      "[1, 1, 1, 2, 1, 1, 1, 1, 3]\n",
      "12\n"
     ]
    }
   ],
   "source": [
    "print(phrasecounter(\"This is the dawning of the age of aquarius\"))\n",
    "print(sum(phrasecounter(\"This is the dawning of the age of aquarius\")))"
   ]
  },
  {
   "cell_type": "markdown",
   "metadata": {},
   "source": [
    "Let's try it with a song. The chosen one is Landslide, by Fleetwood Mac"
   ]
  },
  {
   "cell_type": "code",
   "execution_count": 12,
   "metadata": {
    "collapsed": true
   },
   "outputs": [],
   "source": [
    "fp = open('Landslide - Fleetwood Mac.txt')"
   ]
  },
  {
   "cell_type": "code",
   "execution_count": 13,
   "metadata": {
    "collapsed": true
   },
   "outputs": [],
   "source": [
    "foo = list(fp)"
   ]
  },
  {
   "cell_type": "code",
   "execution_count": 17,
   "metadata": {},
   "outputs": [
    {
     "name": "stdout",
     "output_type": "stream",
     "text": [
      "I took my love, I took it down\n",
      "[1, 1, 1, 1, 1, 1, 1, 1]\n",
      "I climbed a mountain and I turned around\n",
      "[1, 1, 1, 2, 1, 1, 1, 2]\n",
      "And I saw my reflection in the snow-covered hills\n",
      "[1, 1, 1, 1, 3, 1, 1, 3, 1]\n",
      "'Till the landslide brought me down\n",
      "[1, 1, 2, 1, 1, 1]\n",
      "Oh, mirror in the sky, what is love?\n",
      "[1, 2, 1, 1, 1, 1, 1, 1]\n",
      "Can the child within my heart rise above?\n",
      "[1, 1, 1, 2, 1, 1, 1, 2]\n",
      "Can I sail through the changing ocean tides?\n",
      "[1, 1, 1, 1, 1, 2, 2, 1]\n",
      "Can I handle the seasons of my life?\n",
      "[1, 1, 2, 1, 2, 1, 1, 1]\n",
      "Well, I've been afraid of changing\n",
      "[1, 1, 1, 2, 1, 2]\n",
      "'Cause I've built my life around you\n",
      "[1, 1, 1, 1, 1, 2, 1]\n",
      "But time makes you bolder\n",
      "[1, 1, 1, 1, 2]\n",
      "Even children get older\n",
      "[2, 2, 1, 2]\n",
      "And I'm getting older too\n",
      "[1, 1, 2, 2, 1]\n",
      "Well, I've been afraid of changing\n",
      "[1, 1, 1, 2, 1, 2]\n",
      "'Cause I've built my life around you\n",
      "[1, 1, 1, 1, 1, 2, 1]\n",
      "But time makes you bolder\n",
      "[1, 1, 1, 1, 2]\n",
      "Even children get older\n",
      "[2, 2, 1, 2]\n",
      "And I'm getting older too\n",
      "[1, 1, 2, 2, 1]\n",
      "Oh, I'm getting older too\n",
      "[1, 1, 2, 2, 1]\n",
      "Oh, take my love, take it down\n",
      "[1, 1, 1, 1, 1, 1, 1]\n",
      "Oh, climb a mountain and turn around\n",
      "[1, 1, 1, 2, 1, 1, 2]\n",
      "And if you see my reflection in the snow-covered hills\n",
      "[1, 1, 1, 1, 1, 3, 1, 1, 3, 1]\n",
      "Well the landslide will bring it down\n",
      "[1, 1, 2, 1, 1, 1, 1]\n",
      "And if you see my reflection in the snow-covered hills\n",
      "[1, 1, 1, 1, 1, 3, 1, 1, 3, 1]\n",
      "Well the landslide will bring it down, oh oh\n",
      "[1, 1, 2, 1, 1, 1, 1, 1, 1]\n",
      "The landslide will bring it down\n",
      "[1, 2, 1, 1, 1, 1]\n"
     ]
    }
   ],
   "source": [
    "for i in foo:\n",
    "    if i != \"\\n\":\n",
    "        print(i.rstrip())\n",
    "        print(phrasecounter(i))"
   ]
  },
  {
   "cell_type": "code",
   "execution_count": 15,
   "metadata": {},
   "outputs": [
    {
     "data": {
      "text/plain": [
       "'/home/humberto/Berkeley/Side Projects'"
      ]
     },
     "execution_count": 15,
     "metadata": {},
     "output_type": "execute_result"
    }
   ],
   "source": [
    "pwd"
   ]
  },
  {
   "cell_type": "code",
   "execution_count": 16,
   "metadata": {},
   "outputs": [],
   "source": [
    "import glob   \n",
    "path = 'database/Fleetwood Mac/*.txt'   \n",
    "files=glob.glob(path)   \n",
    "for file in files:\n",
    "    print(file)"
   ]
  },
  {
   "cell_type": "code",
   "execution_count": null,
   "metadata": {
    "collapsed": true
   },
   "outputs": [],
   "source": []
  }
 ],
 "metadata": {
  "anaconda-cloud": {},
  "author": "SE",
  "kernelspec": {
   "display_name": "Python 3",
   "language": "python",
   "name": "python3"
  },
  "language_info": {
   "codemirror_mode": {
    "name": "ipython",
    "version": 3
   },
   "file_extension": ".py",
   "mimetype": "text/x-python",
   "name": "python",
   "nbconvert_exporter": "python",
   "pygments_lexer": "ipython3",
   "version": "3.6.3"
  },
  "latex_envs": {
   "LaTeX_envs_menu_present": true,
   "autoclose": false,
   "autocomplete": true,
   "bibliofile": "biblio.bib",
   "cite_by": "apalike",
   "current_citInitial": 1,
   "eqLabelWithNumbers": true,
   "eqNumInitial": 1,
   "hotkeys": {
    "equation": "Ctrl-E",
    "itemize": "Ctrl-I"
   },
   "labels_anchors": false,
   "latex_user_defs": false,
   "report_style_numbering": false,
   "user_envs_cfg": false
  },
  "toc": {
   "nav_menu": {},
   "number_sections": true,
   "sideBar": true,
   "skip_h1_title": false,
   "title_cell": "Table of Contents",
   "title_sidebar": "Contents",
   "toc_cell": false,
   "toc_position": {},
   "toc_section_display": true,
   "toc_window_display": false
  }
 },
 "nbformat": 4,
 "nbformat_minor": 2
}
